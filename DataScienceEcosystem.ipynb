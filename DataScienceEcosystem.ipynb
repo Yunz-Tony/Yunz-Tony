{
 "cells": [
  {
   "cell_type": "markdown",
   "id": "a7608a01-dd42-407e-b255-fa2f10a31441",
   "metadata": {},
   "source": [
    "<h1>Data Science Tools and Ecosystem</h1>"
   ]
  },
  {
   "cell_type": "markdown",
   "id": "d91a33c0-04ff-4c96-811e-96ab68caddc6",
   "metadata": {
    "tags": []
   },
   "source": [
    "In this notebook, Data Science Tools and Ecosystem are summarized."
   ]
  },
  {
   "cell_type": "markdown",
   "id": "ba8f6581-47ad-40da-b3ca-2c0448a4c2af",
   "metadata": {},
   "source": [
    "<strong>Objectives:</strong>\n",
    "<ul>\n",
    "    <li>Popular languages data scientists use\n",
    "    <li>common libraries used by data scientists\n",
    "    <li>basic arithmetics in .ipynb files"
   ]
  },
  {
   "cell_type": "markdown",
   "id": "10e69d0e-d2ec-4da9-95cd-60fc78b8e00a",
   "metadata": {},
   "source": [
    "Some of the popular languages that Data Scientists use are:\n",
    "<ol>\n",
    "    <li>Python<br>\n",
    "    <li>R<br>\n",
    "    <li>SQL<br>\n",
    "</ol>"
   ]
  },
  {
   "cell_type": "markdown",
   "id": "0276759d-1ef6-4c89-9808-381123a93738",
   "metadata": {},
   "source": [
    "Some of the commonly used libraries used by Data Scientists include:\n",
    "<ol>\n",
    "    <li>NumPy\n",
    "    <li>Pandas\n",
    "    <li>Matplotlib</ol>"
   ]
  },
  {
   "cell_type": "markdown",
   "id": "2dd49007-82a1-4bcd-b5ca-35c2043ffb0f",
   "metadata": {},
   "source": [
    "<table>\n",
    "    <tr>\n",
    "        <th>Data Science Tools\n",
    "    </tr>\n",
    "    <tr> \n",
    "        <td>RStudio\n",
    "    </tr>\n",
    "    <tr>\n",
    "        <td>TensorFlow\n",
    "    </tr>\n",
    "    <tr>\n",
    "        <td>Apache Hadoop\n",
    "    </tr>"
   ]
  },
  {
   "cell_type": "markdown",
   "id": "3efaba6a-51d5-4172-9c7c-92374877d786",
   "metadata": {},
   "source": [
    "<h3>Below are a few examples of evaluating arithmetic expressions in Python"
   ]
  },
  {
   "cell_type": "code",
   "execution_count": 4,
   "id": "3d89fe50-7ccf-40a2-b19a-90cdda8cb917",
   "metadata": {
    "tags": []
   },
   "outputs": [
    {
     "data": {
      "text/plain": [
       "17"
      ]
     },
     "execution_count": 4,
     "metadata": {},
     "output_type": "execute_result"
    }
   ],
   "source": [
    "# This a simple arithmetic expression to mutiply then add integers\n",
    "(3*4)+5"
   ]
  },
  {
   "cell_type": "code",
   "execution_count": 6,
   "id": "37c9ba1c-613b-4a10-a010-1563010f8984",
   "metadata": {
    "tags": []
   },
   "outputs": [
    {
     "data": {
      "text/plain": [
       "3.3333333333333335"
      ]
     },
     "execution_count": 6,
     "metadata": {},
     "output_type": "execute_result"
    }
   ],
   "source": [
    "# This will convert 200 minutes to hours by diving by 60\n",
    "200/60"
   ]
  },
  {
   "cell_type": "markdown",
   "id": "202c58de-11c4-446f-b9f8-20ffdda29bb6",
   "metadata": {
    "tags": []
   },
   "source": [
    "<h2>Author<br><br>\n",
    "\n",
    "Yunze Tony Zhu"
   ]
  }
 ],
 "metadata": {
  "kernelspec": {
   "display_name": "Python",
   "language": "python",
   "name": "conda-env-python-py"
  },
  "language_info": {
   "codemirror_mode": {
    "name": "ipython",
    "version": 3
   },
   "file_extension": ".py",
   "mimetype": "text/x-python",
   "name": "python",
   "nbconvert_exporter": "python",
   "pygments_lexer": "ipython3",
   "version": "3.7.12"
  }
 },
 "nbformat": 4,
 "nbformat_minor": 5
}
